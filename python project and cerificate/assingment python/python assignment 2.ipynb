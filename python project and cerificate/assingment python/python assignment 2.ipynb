{
 "cells": [
  {
   "cell_type": "code",
   "execution_count": null,
   "id": "726beef7-e3ab-4e3f-96ad-5ea339a4c7b8",
   "metadata": {},
   "outputs": [],
   "source": [
    "#1. Write a function to count the number of vowels and consonants in a given string.\n",
    "def count_of_vowels_and_consoants():\n",
    "    string = input(\"enter a string:\\n\")\n",
    "    vowels = \"aeiou\"\n",
    "    number_of_vowels = 0\n",
    "    number_of_consoants = 0\n",
    "    for char in string:\n",
    "        if char in vowels:\n",
    "            number_of_vowels += 1\n",
    "        elif char.isalpha():\n",
    "            number_of_consoants += 1\n",
    "    print(f\"number_of_vowels:{number_of_vowels}\")\n",
    "    print(f\"number_of_consoants:{number_of_consoants}\")\n",
    "    \n",
    "count_of_vowels_and_consoants()  "
   ]
  },
  {
   "cell_type": "code",
   "execution_count": null,
   "id": "2097324b-6d40-410b-b03d-b1991e4b8aba",
   "metadata": {},
   "outputs": [],
   "source": [
    "#2. Write a function to return the minimum and maximum elements from a tuple.\n",
    "def the_minimum_and_maximum_elements_from_a_tuple(tuple1): \n",
    "    if len(tuple1) == 0:\n",
    "        return \"empty\"\n",
    "    else :\n",
    "        min(tuple1),max(tuple1)\n",
    "\n",
    "my_tuple = (3, 7, 1, 9, 4)\n",
    "print(f\"Minimum: {minimum}, Maximum: {maximum}\") "
   ]
  },
  {
   "cell_type": "code",
   "execution_count": 9,
   "id": "a98bf42c-4b7a-48e3-b4d4-a5636804d2a5",
   "metadata": {},
   "outputs": [
    {
     "name": "stdout",
     "output_type": "stream",
     "text": [
      "first element is 1\n",
      "second element is 2\n",
      "rest element is (3, 4, 5, 6)\n"
     ]
    }
   ],
   "source": [
    "#3. Write code to unpack the first two elements and the rest from a tuple of unknown length\n",
    "tuple = (1,2,3,4,5,6)\n",
    "first_element = tuple[0]\n",
    "second_element = tuple[1]\n",
    "rest_element = tuple[2:]\n",
    "print(f\"first element is {first_element}\")\n",
    "print(f\"second element is {second_element}\")\n",
    "print(f\"rest element is {rest_element}\")"
   ]
  },
  {
   "cell_type": "code",
   "execution_count": 42,
   "id": "64e1313d-184b-4823-a957-25b978bacb0a",
   "metadata": {},
   "outputs": [
    {
     "name": "stdin",
     "output_type": "stream",
     "text": [
      "enter a string:\n",
      " hi hi \n"
     ]
    },
    {
     "name": "stdout",
     "output_type": "stream",
     "text": [
      "the frequency of each word is :{'hi': 2}\n"
     ]
    }
   ],
   "source": [
    "#4. Write a function that takes a string and returns the frequency of each word.\n",
    "def count_word():\n",
    "    string=input(\"enter a string:\\n\")\n",
    "    word = string.split()\n",
    "    frequency = {}\n",
    "    for i in word:\n",
    "        if i not in frequency.keys():\n",
    "            frequency[i]=0\n",
    "        frequency[i] = frequency[i]+1\n",
    "    return (frequency)\n",
    "\n",
    "frequency=count_word()\n",
    "print(f\"the frequency of each word is :{frequency}\")\n"
   ]
  },
  {
   "cell_type": "code",
   "execution_count": 11,
   "id": "1160771d-0501-494d-ae59-9178546a2b9c",
   "metadata": {},
   "outputs": [
    {
     "name": "stdout",
     "output_type": "stream",
     "text": [
      "duplicate: [1, 2, 3, 4, 5, 6, 7, 8]\n"
     ]
    }
   ],
   "source": [
    "#5. Write a function to find duplicate elements in a list.\n",
    "def find_duplicate(list1):\n",
    "    unique = []\n",
    "    duplicates=[]\n",
    "    for element in list1:\n",
    "        if element not in unique:\n",
    "            unique.append(element)\n",
    "        elif element not in duplicates:\n",
    "            duplicates.append(element)\n",
    "    return unique\n",
    "mylist = [1,1,2,3,4,4,5,5,6,6,7,8]\n",
    "print(\"duplicate:\",find_duplicate(mylist))\n",
    "\n",
    "\n",
    "\n",
    "\n",
    "    "
   ]
  },
  {
   "cell_type": "code",
   "execution_count": 64,
   "id": "0edd2f72-da95-4578-9222-57497222f88f",
   "metadata": {},
   "outputs": [
    {
     "name": "stdout",
     "output_type": "stream",
     "text": [
      "the even number is :[2, 4, 6, 8, 10]\n"
     ]
    }
   ],
   "source": [
    "#6. Use a filter with a lambda function to extract even numbers from a list.\n",
    "list1 = [1,2,3,4,5,6,7,8,9,10]\n",
    "even_numbers = list(filter(lambda x: x % 2 == 0, list1))\n",
    "\n",
    "print(f\"the even number is :{even_numbers}\")\n",
    "    "
   ]
  },
  {
   "cell_type": "code",
   "execution_count": 5,
   "id": "18683c43-66fe-483c-8930-d09693c61260",
   "metadata": {},
   "outputs": [
    {
     "name": "stdout",
     "output_type": "stream",
     "text": [
      "57\n",
      "-11\n",
      "782\n"
     ]
    }
   ],
   "source": [
    "#7. Create a Python module named mymath.py with functions for addition,subtraction, and multiplication. Import and use it.\n",
    "import mymath\n",
    "print(mymath.add(23,34))\n",
    "print(mymath.subtract(23,34))\n",
    "print(mymath.multiply(23,34))"
   ]
  },
  {
   "cell_type": "code",
   "execution_count": 28,
   "id": "a250efd4-6d91-4736-a44c-2aa816b9b967",
   "metadata": {},
   "outputs": [
    {
     "name": "stdout",
     "output_type": "stream",
     "text": [
      "Sort a List of Tuples Based on the Second Element[(1, 2, 3), (4, 5, 6), (7, 8, 9), (10, 11, 12)]\n"
     ]
    }
   ],
   "source": [
    "#8. Sort a List of Tuples Based on the Second Element\n",
    "list_of_tuples = [(4,5,6),(1,2,3),(7,8,9),(10,11,12)]\n",
    "list_of_tuples.sort(key=lambda x:x[2])\n",
    "print(f\"Sort a List of Tuples Based on the Second Element{list_of_tuples}\")"
   ]
  },
  {
   "cell_type": "code",
   "execution_count": 47,
   "id": "c4627f29-90d6-4feb-a951-b56d00312e4f",
   "metadata": {},
   "outputs": [
    {
     "name": "stdin",
     "output_type": "stream",
     "text": [
      "enter a value,separated by space:\n",
      " 1 2 3 4 5 6 \n",
      "enter a value,separated by space:\n",
      " 6 5 7 8 9 0\n"
     ]
    },
    {
     "name": "stdout",
     "output_type": "stream",
     "text": [
      "the symmetric difference (elements not common) between two sets {0, 8, 9, 7}\n"
     ]
    }
   ],
   "source": [
    "#9. Write a function to find the symmetric difference (elements not common) between two sets.\n",
    "def difference_sets():\n",
    "    s1 = set(map(int,input(\"enter a value,separated by space:\\n\").split()))\n",
    "    s2 = set(map(int,input(\"enter a value,separated by space:\\n\").split()))\n",
    "    return s2-s1\n",
    "difference=difference_sets()\n",
    "print(f\"the symmetric difference (elements not common) between two sets {difference}\")\n"
   ]
  },
  {
   "cell_type": "code",
   "execution_count": 57,
   "id": "334d87a8-84d0-4c2c-8f39-a47fe3f128b1",
   "metadata": {},
   "outputs": [
    {
     "name": "stdin",
     "output_type": "stream",
     "text": [
      "enter an number:\n",
      " 7\n"
     ]
    },
    {
     "name": "stdout",
     "output_type": "stream",
     "text": [
      "7 is not prime number\n"
     ]
    }
   ],
   "source": [
    "#10.Write a function that returns a list of prime numbers up to a given number n.\n",
    "def prime_number(number):\n",
    "    if number <=1:\n",
    "        return False\n",
    "    for i in range(2,int(number**0.5) +1):\n",
    "        if number%1==0:\n",
    "            return False\n",
    "    return True\n",
    "num = int(input(\"enter an number:\\n\"))\n",
    "if prime_number(num):\n",
    "    print(f\"{num} is prime number\")\n",
    "else:\n",
    "    print(f\"{num} is not prime number\")\n",
    "    "
   ]
  },
  {
   "cell_type": "code",
   "execution_count": 59,
   "id": "eb8785dc-1e02-47d8-8d67-b80b6bbcaec5",
   "metadata": {},
   "outputs": [
    {
     "name": "stdin",
     "output_type": "stream",
     "text": [
      "Enter a number:  7\n"
     ]
    },
    {
     "name": "stdout",
     "output_type": "stream",
     "text": [
      "7 is a prime number.\n"
     ]
    }
   ],
   "source": [
    "def is_prime(number):\n",
    "    if number <= 1:\n",
    "        return False  # Numbers less than or equal to 1 are not prime\n",
    "    for i in range(2, int(number ** 0.5) + 1):  # Check divisors up to sqrt(number)\n",
    "        if number % i == 0:\n",
    "            return False  # Number is divisible by i, so it's not prime\n",
    "    return True\n",
    "\n",
    "# Example usage\n",
    "num = int(input(\"Enter a number: \"))\n",
    "if is_prime(num):\n",
    "    print(f\"{num} is a prime number.\")\n",
    "else:\n",
    "    print(f\"{num} is not a prime number.\")\n"
   ]
  },
  {
   "cell_type": "code",
   "execution_count": null,
   "id": "885f7b86-9295-42d3-8de9-ae2ef03bec8a",
   "metadata": {},
   "outputs": [],
   "source": []
  }
 ],
 "metadata": {
  "kernelspec": {
   "display_name": "Python [conda env:base] *",
   "language": "python",
   "name": "conda-base-py"
  },
  "language_info": {
   "codemirror_mode": {
    "name": "ipython",
    "version": 3
   },
   "file_extension": ".py",
   "mimetype": "text/x-python",
   "name": "python",
   "nbconvert_exporter": "python",
   "pygments_lexer": "ipython3",
   "version": "3.12.7"
  }
 },
 "nbformat": 4,
 "nbformat_minor": 5
}
